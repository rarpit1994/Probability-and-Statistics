{
 "cells": [
  {
   "cell_type": "markdown",
   "metadata": {},
   "source": [
    "<p align=\"justify\">\n",
    "A <b>normal distribution</b>, sometimes called the bell curve, is a distribution that occurs naturally in many situations. For example, the bell curve is seen in tests like the SAT and GRE. The bulk of students will score the average (C), while smaller numbers of students will score a B or D. An even smaller percentage of students score an F or an A. This creates a distribution that resembles a bell (hence the nickname). The bell curve is symmetrical. Half of the data will fall to the left of the mean; half will fall to the right.\n",
    "Many groups follow this type of pattern. That’s why it’s widely used in business, statistics and in government bodies like the FDA:\n",
    "</p>\n",
    "<ul>\n",
    "<li>Heights of people.</li>\n",
    "<li>Measurement errors.</li>\n",
    "<li>Blood pressure.</li>\n",
    "<li>Points on a test.</li>\n",
    "<li>IQ scores.</li>\n",
    "<li>Salaries.</li>\n",
    "</ul>\n",
    "\n",
    "The standard deviation controls the spread of the distribution. \n",
    "A smaller standard deviation indicates that the data is tightly clustered around the mean; the normal distribution will be taller. A larger standard deviation indicates that the data is spread out around the mean; the normal distribution will be flatter and wider.\n",
    "\n",
    "<b>Properties of a normal distribution</b>\n",
    "<ol>\n",
    "<li>The mean, mode and median are all equal.</li>\n",
    "<li>The curve is symmetric at the center (i.e. around the mean, μ).</li>\n",
    "<li>Exactly half of the values are to the left of center and exactly half the values are to the right.</li>\n",
    "<li>The total area under the curve is 1.</li>\n",
    "</ol>\n",
    "\n",
    "The <b>Gaussian distribution</b> is a continuous family of curves, all shaped like a bell. In other words, there are endless possibilities for the number of possible distributions, given the limitless possibilities for standard deviation measurements (which could be from 0 to infinity). The <b>standard Gaussian distribution </b> has a mean of 0 and a standard deviation of 1. The larger the standard deviation, the flatter the curve. The smaller the standard deviation, the higher the peak of the curve.\n",
    "\n",
    "A Gaussian distribution function can be used to describe physical events if the number of events is very large (Central Limit Theorem(CLT)). In simple terms, the CLT says that while you may not be able to predict what one item will do, if you have a whole ton of items, you can predict what they will do as a whole. For example, if you have a jar of gas at a constant temperature, the Gaussian distribution will enable you to figure out the probability that one particle will move at a certain velocity."
   ]
  },
  {
   "cell_type": "markdown",
   "metadata": {},
   "source": [
    "The Probability Distribution Function (PDF) of Normal or Gaussian or Bell Shaped Distribution is given by:\n",
    "\n",
    "\\begin{equation}\n",
    "P(X=k) = \\frac{1}{\\sqrt{2\\pi}\\sigma} \\mathrm{e}^{\\frac{-(k-\\mu)^2}{2\\sigma^2}}\\\n",
    "\\end{equation}"
   ]
  },
  {
   "cell_type": "markdown",
   "metadata": {},
   "source": [
    "Also called Normal PDF"
   ]
  },
  {
   "cell_type": "code",
   "execution_count": 1,
   "metadata": {},
   "outputs": [],
   "source": [
    "import scipy.stats as S\n",
    "import numpy as np\n",
    "import seaborn as sns"
   ]
  },
  {
   "cell_type": "markdown",
   "metadata": {},
   "source": [
    "We are going to withdraw some numbers from Normal Distribution having mean = 65 and standard deviation, sigma = 10"
   ]
  },
  {
   "cell_type": "markdown",
   "metadata": {},
   "source": [
    "The concept of probability being limiting case of relative frequency can be demonstrated here also. Let's first calculate the true probability (theoretical value) of probability of Random Variable, X taking value k=45 calculated from the Normal PDF given mean = 60 and sigma = 10. So, the theoretical value of probability of Random Variable, X taking value k=45 is given by:\n",
    "\n",
    "\\begin{equation}\n",
    "P(X=45) = \\frac{1}{\\sqrt{2\\pi} 10} \\mathrm{e}^{\\frac{-(45-60)^2}{2*10^2}}\\ = 0.0129\n",
    "\\end{equation}"
   ]
  },
  {
   "cell_type": "markdown",
   "metadata": {},
   "source": [
    "Which means that the frequency of value 45 is 1.29 % of the size of population. "
   ]
  },
  {
   "cell_type": "markdown",
   "metadata": {},
   "source": [
    "Let's calculate the value of probability of value 60. "
   ]
  },
  {
   "cell_type": "markdown",
   "metadata": {},
   "source": [
    "\\begin{equation}\n",
    "P(X=60) = \\frac{1}{\\sqrt{2\\pi} 10} = 0.0399\n",
    "\\end{equation}"
   ]
  },
  {
   "cell_type": "markdown",
   "metadata": {},
   "source": [
    "Which means that the frequency of value 60 is 3.99 % of the size of population. "
   ]
  },
  {
   "cell_type": "markdown",
   "metadata": {},
   "source": [
    "Let's generate a sample size of 100 observations. "
   ]
  },
  {
   "cell_type": "code",
   "execution_count": 2,
   "metadata": {},
   "outputs": [],
   "source": [
    "sigma = 10\n",
    "mean = 60\n",
    "sample = np.random.normal(loc=mean,scale=sigma,size=100)"
   ]
  },
  {
   "cell_type": "code",
   "execution_count": 3,
   "metadata": {},
   "outputs": [
    {
     "data": {
      "text/plain": [
       "(100,)"
      ]
     },
     "execution_count": 3,
     "metadata": {},
     "output_type": "execute_result"
    }
   ],
   "source": [
    "sample.shape"
   ]
  },
  {
   "cell_type": "code",
   "execution_count": 5,
   "metadata": {},
   "outputs": [
    {
     "name": "stderr",
     "output_type": "stream",
     "text": [
      "C:\\Users\\ARPIT\\AppData\\Local\\Continuum\\anaconda3\\lib\\site-packages\\scipy\\stats\\stats.py:1713: FutureWarning: Using a non-tuple sequence for multidimensional indexing is deprecated; use `arr[tuple(seq)]` instead of `arr[seq]`. In the future this will be interpreted as an array index, `arr[np.array(seq)]`, which will result either in an error or a different result.\n",
      "  return np.add.reduce(sorted[indexer] * weights, axis=axis) / sumval\n"
     ]
    },
    {
     "data": {
      "text/plain": [
       "<matplotlib.axes._subplots.AxesSubplot at 0x1feda5acac8>"
      ]
     },
     "execution_count": 5,
     "metadata": {},
     "output_type": "execute_result"
    },
    {
     "data": {
      "image/png": "[encoded data removed]",
      "text/plain": [
       "<Figure size 432x288 with 1 Axes>"
      ]
     },
     "metadata": {
      "needs_background": "light"
     },
     "output_type": "display_data"
    }
   ],
   "source": [
    "sns.distplot(sample,bins='rice',kde=True)"
   ]
  },
  {
   "cell_type": "markdown",
   "metadata": {},
   "source": [
    "Let's generate a sample size of 1000 observations. "
   ]
  },
  {
   "cell_type": "code",
   "execution_count": 6,
   "metadata": {},
   "outputs": [],
   "source": [
    "sample = np.random.normal(loc=mean,scale=sigma,size=1000)"
   ]
  },
  {
   "cell_type": "code",
   "execution_count": 7,
   "metadata": {},
   "outputs": [
    {
     "data": {
      "text/plain": [
       "<matplotlib.axes._subplots.AxesSubplot at 0x1feda9f0908>"
      ]
     },
     "execution_count": 7,
     "metadata": {},
     "output_type": "execute_result"
    },
    {
     "data": {
      "image/png": "[encoded data removed]",
      "text/plain": [
       "<Figure size 432x288 with 1 Axes>"
      ]
     },
     "metadata": {
      "needs_background": "light"
     },
     "output_type": "display_data"
    }
   ],
   "source": [
    "sns.distplot(sample,bins='rice',kde=True)"
   ]
  },
  {
   "cell_type": "markdown",
   "metadata": {},
   "source": [
    "Now, let's generate a sample size of 10000 observations. "
   ]
  },
  {
   "cell_type": "code",
   "execution_count": 8,
   "metadata": {},
   "outputs": [],
   "source": [
    "sample = np.random.normal(loc=mean,scale=sigma,size=10000)"
   ]
  },
  {
   "cell_type": "code",
   "execution_count": 9,
   "metadata": {},
   "outputs": [
    {
     "data": {
      "text/plain": [
       "<matplotlib.axes._subplots.AxesSubplot at 0x1fedba5c5c0>"
      ]
     },
     "execution_count": 9,
     "metadata": {},
     "output_type": "execute_result"
    },
    {
     "data": {
      "image/png": "[encoded data removed]",
      "text/plain": [
       "<Figure size 432x288 with 1 Axes>"
      ]
     },
     "metadata": {
      "needs_background": "light"
     },
     "output_type": "display_data"
    }
   ],
   "source": [
    "sns.distplot(sample,bins='rice',kde=True)"
   ]
  },
  {
   "cell_type": "markdown",
   "metadata": {},
   "source": [
    "Now, for one more last time, let's generate a sample size of 100000 observations."
   ]
  },
  {
   "cell_type": "code",
   "execution_count": 10,
   "metadata": {},
   "outputs": [],
   "source": [
    "sample = np.random.normal(loc=mean,scale=sigma,size=100000)"
   ]
  },
  {
   "cell_type": "code",
   "execution_count": 11,
   "metadata": {},
   "outputs": [
    {
     "data": {
      "text/plain": [
       "<matplotlib.axes._subplots.AxesSubplot at 0x1fedbb3e160>"
      ]
     },
     "execution_count": 11,
     "metadata": {},
     "output_type": "execute_result"
    },
    {
     "data": {
      "image/png": "[encoded data removed]",
      "text/plain": [
       "<Figure size 432x288 with 1 Axes>"
      ]
     },
     "metadata": {
      "needs_background": "light"
     },
     "output_type": "display_data"
    }
   ],
   "source": [
    "sns.distplot(sample,bins='rice',kde=True)"
   ]
  },
  {
   "cell_type": "markdown",
   "metadata": {},
   "source": [
    "All of the plots which we can see above are frequency distributions. In the first plot of frequency distribution, the bulge is coming is coming nearby 60, approximately 55. \n",
    "\n",
    "In the second frequency distribution where sample size is increased with respect to the previous case i.e. 1000, the distribution is approaching towards the Normal Distribution with the mean of 60. Although, the bulge is still at the value of 55, approximately but this time it's more refined in shape. \n",
    "\n",
    "In the third frequency distribution where the sample size is further increased i.e. 10000, the distribution is approaching more closely towards actual normal probability distribution with the mean=60 and sigma=10, getting finer. \n",
    "\n",
    "Finally, if we look at the last plotted frequency distribution with the sample size of 100000, we see that it's not that much different from the previous plotted frequency distribution and so, we can say that the frequency of each of the observation is stablizing and stopped changing much and hence approaching towards probability but how ????"
   ]
  },
  {
   "cell_type": "markdown",
   "metadata": {},
   "source": [
    "We know that the relative frequency of Random Variable value, X=60 is:"
   ]
  },
  {
   "cell_type": "markdown",
   "metadata": {},
   "source": [
    "According to First Frequency Distribution, it's approximately 13/100 = 0.13. "
   ]
  },
  {
   "cell_type": "markdown",
   "metadata": {},
   "source": [
    "According to Second Frequency Distribution, It's approximately 260/1000 = 0.26. "
   ]
  },
  {
   "cell_type": "markdown",
   "metadata": {},
   "source": [
    "According to Third Frequency Distribution, it's approximately 3250/10000 = 0.3250. "
   ]
  },
  {
   "cell_type": "markdown",
   "metadata": {},
   "source": [
    "According to Fourth Frequency Distribution, it's approximately 35000/100000 = 0.35."
   ]
  }
 ],
 "metadata": {
  "kernelspec": {
   "display_name": "Python 3",
   "language": "python",
   "name": "python3"
  },
  "language_info": {
   "codemirror_mode": {
    "name": "ipython",
    "version": 3
   },
   "file_extension": ".py",
   "mimetype": "text/x-python",
   "name": "python",
   "nbconvert_exporter": "python",
   "pygments_lexer": "ipython3",
   "version": "3.6.8"
  }
 },
 "nbformat": 4,
 "nbformat_minor": 2
}
