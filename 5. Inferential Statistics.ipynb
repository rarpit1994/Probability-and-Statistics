{
 "cells": [
  {
   "cell_type": "markdown",
   "metadata": {},
   "source": [
    "<b> INFERENTIAL STATISTICS </b>\n",
    "    \n",
    "It help us to get the inferences about the population from picking out the samples from the population.\n",
    "    \n",
    "It's helps to estimate thr natural parameters of a probability distribution followed by the population. Estimate can be good or bad both types. \n",
    "    \n",
    "The propoerties of the good estimator is:\n",
    "<ol>\n",
    "<li> It should be unbiased. </li>\n",
    "<li> It should have minimum variance </li>\n",
    "</ol>\n",
    "\n",
    "<b> Frequency Distribution </b> of any sample statistics plotted by doing repeated sampling is called sampling distribution of that sample statistics."
   ]
  },
  {
   "cell_type": "markdown",
   "metadata": {},
   "source": [
    "<b> Central Limit Theorem </b>\n",
    "\n",
    "Central Limit Theorem states that the frequency distribution of a sample statistics approaches pure normal distribution as the N (sample size) approaches to the infinity as well as the variance of the sampling distribution  of a sample statistics is inversely proportional to the N (sample size).\n",
    "\n",
    "Variance of a sampling distibution of sample statistics is inversely proportional to sample size (N).\n",
    "\n",
    "\\begin{equation}\n",
    "Variance\\ of\\ a\\ sampling\\ distribution\\\\ of sample\\ statistics\\ (\\sigma^2) = \\frac{\\sigma^2}{N} \n",
    "\\end{equation}\n",
    "<br>\n",
    "\n",
    "\\begin{equation}\n",
    "Standard\\ deviation\\ of\\ a\\ sampling\\ distribution\\\\ of sample\\ statistics\\ (\\sigma) = \\frac{\\sigma}{\\sqrt(N)} \n",
    "\\end{equation}"
   ]
  },
  {
   "cell_type": "markdown",
   "metadata": {},
   "source": [
    "<b> Why we make sampling distibution? </b><br>\n",
    "To get the:\n",
    "\n",
    "Best Estimator = Minimum Variance Unbiased (MVU) Estimator"
   ]
  },
  {
   "cell_type": "markdown",
   "metadata": {},
   "source": [
    "<b> Python code to prove the central limit theorem::: </b>\n",
    "\n",
    "Let's check it using by taking an example of the coin tossing. "
   ]
  },
  {
   "cell_type": "code",
   "execution_count": 3,
   "metadata": {},
   "outputs": [],
   "source": [
    "import numpy as np\n",
    "import pandas as pd"
   ]
  },
  {
   "cell_type": "code",
   "execution_count": 4,
   "metadata": {},
   "outputs": [],
   "source": [
    "N = 10\n",
    "psuccess = 0.5\n",
    "qfailure = 1-psuccess\n",
    "ExperimentOutcomes = np.random.binomial(N,psuccess)"
   ]
  },
  {
   "cell_type": "code",
   "execution_count": 5,
   "metadata": {},
   "outputs": [
    {
     "data": {
      "text/plain": [
       "6"
      ]
     },
     "execution_count": 5,
     "metadata": {},
     "output_type": "execute_result"
    }
   ],
   "source": [
    "ExperimentOutcomes"
   ]
  },
  {
   "cell_type": "code",
   "execution_count": 6,
   "metadata": {},
   "outputs": [],
   "source": [
    "N = 100\n",
    "ExperimentOutcomes = np.random.binomial(N,psuccess)"
   ]
  },
  {
   "cell_type": "code",
   "execution_count": 7,
   "metadata": {},
   "outputs": [
    {
     "data": {
      "text/plain": [
       "49"
      ]
     },
     "execution_count": 7,
     "metadata": {},
     "output_type": "execute_result"
    }
   ],
   "source": [
    "ExperimentOutcomes"
   ]
  },
  {
   "cell_type": "markdown",
   "metadata": {},
   "source": [
    "It will stablize the value of the sample size will increase. As we know that the probability of the getting the head/tail in coin tossing is 50 % i.e., 0.5. "
   ]
  },
  {
   "cell_type": "code",
   "execution_count": 8,
   "metadata": {},
   "outputs": [],
   "source": [
    "N = 10000000\n",
    "ExperimentOutcomes = np.random.binomial(N,psuccess)"
   ]
  },
  {
   "cell_type": "code",
   "execution_count": 9,
   "metadata": {},
   "outputs": [
    {
     "data": {
      "text/plain": [
       "4999066"
      ]
     },
     "execution_count": 9,
     "metadata": {},
     "output_type": "execute_result"
    }
   ],
   "source": [
    "ExperimentOutcomes"
   ]
  },
  {
   "cell_type": "code",
   "execution_count": null,
   "metadata": {},
   "outputs": [],
   "source": []
  }
 ],
 "metadata": {
  "kernelspec": {
   "display_name": "Python 3",
   "language": "python",
   "name": "python3"
  },
  "language_info": {
   "codemirror_mode": {
    "name": "ipython",
    "version": 3
   },
   "file_extension": ".py",
   "mimetype": "text/x-python",
   "name": "python",
   "nbconvert_exporter": "python",
   "pygments_lexer": "ipython3",
   "version": "3.6.8"
  }
 },
 "nbformat": 4,
 "nbformat_minor": 2
}
