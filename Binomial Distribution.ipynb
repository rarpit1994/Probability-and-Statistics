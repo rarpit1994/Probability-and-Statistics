{
 "cells": [
  {
   "cell_type": "markdown",
   "metadata": {},
   "source": [
    "A $\\textbf {Binomial Distribution}$ can be thought of as simply the probability of a SUCCESS or FAILURE outcome in an experiment or survey that is repeated multiple times. The binomial is a type of distribution that has two possible outcomes (the prefix “bi” means two, or twice). \n",
    "\n",
    "$\\textbf {For example,}$ a coin toss has only two possible outcomes: heads or tails and taking a test could have two possible outcomes: pass or fail.<br>\n",
    "The Probability Density Function (PDF) for $\\textbf {Binomial Distribution}$ is defined as\n",
    "$\\begin {equation*} \\\\\n",
    "\\\\P(X=K) = {N\\choose K}{p}^K{q}^N-K\n",
    "\\end{equation*}$<br>\n",
    "$\\textbf {Coin Tossing Example:}$\n",
    "\n",
    "If we toss a coin 5 times and find the probability of getting a 1 head.\n",
    "The following events can happen are:\n",
    "\n",
    "<ul>\n",
    "    <li> H,T,T,T,T</li>\n",
    "    <li> T,H,T,T,T</li>\n",
    "    <li> T,T,H,T,T</li>\n",
    "    <li> T,T,T,H,T</li>\n",
    "    <li> T,T,T,T,H</li>\n",
    "</ul>\n",
    "\n",
    "$\\begin{equation}\n",
    "Probability(P) = P(H{\\cap T \\cap T \\cap T \\cap T})\n",
    "\\end{equation}$\n",
    "<br>\n",
    "We also know that coin tossing is a independent probability and it will not affect each other's probability.So, each probabilities will be multiplied.\n",
    "<br>\n",
    "$\\begin{equation}\n",
    "Probability(P) = P(H).P(T).P(T).P(T).P(T)\n",
    "\\end{equation}$<br>\n",
    "\n",
    "Let's assume a coin is tossed for 25 crores times and Head (H) comes for 65% times. <Br>\n",
    "Probability of getting Head = P(H) = p (Success of getting Head) = 0.65 <br>\n",
    "Probability of getting Tail = P(T) = q (Failure of getting Head or Success of getting Tail) \n",
    "                                   = 1-p = 0.35\n",
    "<br>\n",
    "    \n",
    "<B>Conditions for Binomial Random Variable:</B><br>\n",
    "<ol>\n",
    "    <li> The outcomes of the random variable should be 2. </li>\n",
    "    <li> They should an independent event </li?\n",
    "</ol>"
   ]
  },
  {
   "cell_type": "code",
   "execution_count": 1,
   "metadata": {},
   "outputs": [],
   "source": [
    "import numpy as np\n",
    "import matplotlib.pyplot as plt\n",
    "import scipy.stats as S"
   ]
  },
  {
   "cell_type": "code",
   "execution_count": 2,
   "metadata": {},
   "outputs": [],
   "source": [
    "p = 0.5\n",
    "N = 10\n",
    "q = 1-p"
   ]
  },
  {
   "cell_type": "code",
   "execution_count": 3,
   "metadata": {},
   "outputs": [],
   "source": [
    "RandomValues = np.arange(0,N+1)"
   ]
  },
  {
   "cell_type": "code",
   "execution_count": 4,
   "metadata": {},
   "outputs": [
    {
     "data": {
      "text/plain": [
       "array([ 0,  1,  2,  3,  4,  5,  6,  7,  8,  9, 10])"
      ]
     },
     "execution_count": 4,
     "metadata": {},
     "output_type": "execute_result"
    }
   ],
   "source": [
    "RandomValues"
   ]
  },
  {
   "cell_type": "code",
   "execution_count": 5,
   "metadata": {},
   "outputs": [],
   "source": [
    "BinomialValuesPDF = S.binom.pmf(RandomValues,N,p)"
   ]
  },
  {
   "cell_type": "code",
   "execution_count": 6,
   "metadata": {},
   "outputs": [
    {
     "data": {
      "text/plain": [
       "array([0.00097656, 0.00976563, 0.04394531, 0.1171875 , 0.20507813,\n",
       "       0.24609375, 0.20507813, 0.1171875 , 0.04394531, 0.00976563,\n",
       "       0.00097656])"
      ]
     },
     "execution_count": 6,
     "metadata": {},
     "output_type": "execute_result"
    }
   ],
   "source": [
    "BinomialValuesPDF"
   ]
  },
  {
   "cell_type": "code",
   "execution_count": 7,
   "metadata": {},
   "outputs": [
    {
     "data": {
      "text/plain": [
       "<StemContainer object of 3 artists>"
      ]
     },
     "execution_count": 7,
     "metadata": {},
     "output_type": "execute_result"
    },
    {
     "data": {
      "image/png": "[encoded data removed]",
      "text/plain": [
       "<Figure size 432x288 with 1 Axes>"
      ]
     },
     "metadata": {
      "needs_background": "light"
     },
     "output_type": "display_data"
    }
   ],
   "source": [
    "plt.stem(RandomValues,BinomialValuesPDF)"
   ]
  },
  {
   "cell_type": "markdown",
   "metadata": {},
   "source": [
    "The skewness at the x-axis of the graph will be dependent on the values of the p (Success) and q(Failure).<br>\n",
    "<ul>\n",
    "    <li> If <b>p is greater than q</b> the skewness towards <b>Right side </b></li>\n",
    "    <li> If <b>p is less than q</b> the skewness towards <b>Left side </b></li>\n",
    "</ul>\n",
    "Let's see this by this example."
   ]
  },
  {
   "cell_type": "code",
   "execution_count": 8,
   "metadata": {},
   "outputs": [],
   "source": [
    "p = 0.7\n",
    "N = 10\n",
    "q = 1-p"
   ]
  },
  {
   "cell_type": "code",
   "execution_count": 9,
   "metadata": {},
   "outputs": [],
   "source": [
    "RandomValues = np.arange(0,N+1)"
   ]
  },
  {
   "cell_type": "code",
   "execution_count": 10,
   "metadata": {},
   "outputs": [],
   "source": [
    "BinomialValuesPDF = S.binom.pmf(RandomValues,N,p)"
   ]
  },
  {
   "cell_type": "code",
   "execution_count": 11,
   "metadata": {},
   "outputs": [
    {
     "data": {
      "text/plain": [
       "<StemContainer object of 3 artists>"
      ]
     },
     "execution_count": 11,
     "metadata": {},
     "output_type": "execute_result"
    },
    {
     "data": {
      "image/png": "[encoded data removed]",
      "text/plain": [
       "<Figure size 432x288 with 1 Axes>"
      ]
     },
     "metadata": {
      "needs_background": "light"
     },
     "output_type": "display_data"
    }
   ],
   "source": [
    "plt.stem(RandomValues,BinomialValuesPDF)"
   ]
  },
  {
   "cell_type": "code",
   "execution_count": 12,
   "metadata": {},
   "outputs": [],
   "source": [
    "p = 0.3\n",
    "N = 10\n",
    "q = 1-p"
   ]
  },
  {
   "cell_type": "code",
   "execution_count": 13,
   "metadata": {},
   "outputs": [],
   "source": [
    "RandomValues = np.arange(0,N+1)"
   ]
  },
  {
   "cell_type": "code",
   "execution_count": 14,
   "metadata": {},
   "outputs": [],
   "source": [
    "BinomialValuesPDF = S.binom.pmf(RandomValues,N,p)"
   ]
  },
  {
   "cell_type": "code",
   "execution_count": 15,
   "metadata": {},
   "outputs": [
    {
     "data": {
      "text/plain": [
       "<StemContainer object of 3 artists>"
      ]
     },
     "execution_count": 15,
     "metadata": {},
     "output_type": "execute_result"
    },
    {
     "data": {
      "image/png": "[encoded data removed]",
      "text/plain": [
       "<Figure size 432x288 with 1 Axes>"
      ]
     },
     "metadata": {
      "needs_background": "light"
     },
     "output_type": "display_data"
    }
   ],
   "source": [
    "plt.stem(RandomValues,BinomialValuesPDF)"
   ]
  },
  {
   "cell_type": "code",
   "execution_count": null,
   "metadata": {},
   "outputs": [],
   "source": []
  }
 ],
 "metadata": {
  "kernelspec": {
   "display_name": "Python 3",
   "language": "python",
   "name": "python3"
  },
  "language_info": {
   "codemirror_mode": {
    "name": "ipython",
    "version": 3
   },
   "file_extension": ".py",
   "mimetype": "text/x-python",
   "name": "python",
   "nbconvert_exporter": "python",
   "pygments_lexer": "ipython3",
   "version": "3.6.8"
  }
 },
 "nbformat": 4,
 "nbformat_minor": 2
}
